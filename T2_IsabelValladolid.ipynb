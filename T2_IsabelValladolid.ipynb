{
 "cells": [
  {
   "cell_type": "markdown",
   "id": "220db207",
   "metadata": {},
   "source": [
    "## **¿Qué son las MLOps?**"
   ]
  },
  {
   "cell_type": "markdown",
   "id": "56ac91c8",
   "metadata": {},
   "source": [
    "Las MLOps (Operaciones de Machine Learning) son un conjunto de prácticas y simplifican los flujos de trabajo y despliegues de machine learning (ML). Representan una cultura y practica de ML que une el desarrollo de aplicaciones ML (Dev) con la implmentación y las operaciones (Ops)  de los sistemas de machine learning. Su organización puede utilizar las MLOps para automatizar y estandizar procesos a lo largo del ciclo de vida del ML, incluyendo el desarrollo de modelos, pruebas, integración, lanzamiento y administración de la infraestrucutra"
   ]
  },
  {
   "cell_type": "markdown",
   "id": "45dd7bf0",
   "metadata": {},
   "source": [
    "### **¿Por qué se necesitan las MLOps?**\n",
    "\n",
    "![MLOps pipeline](/Users/isabelvalladolid/Documents/ProyectoCienciaDatos/Tarea2_PCD/3-ML-Lifecycle-Detail.jpg)\n"
   ]
  },
  {
   "cell_type": "markdown",
   "id": "4148d5e4",
   "metadata": {},
   "source": [
    "El ciclo de vida de ML implica la preparación de datos, entrenamiento y validación de modelos, y su despliegue como servicios de predicción. La experimentación con diferentes modelos conduce a implementaciones frecuentes y control de versiones de datos. Las MLOps son fundamentales para gestionar sisteática y simultáneamente el lanzamiento de nuevos modelos de ML de manera similar a tros activos de software en entornos de integración y entrega continuas (CI/CD)."
   ]
  },
  {
   "cell_type": "markdown",
   "id": "bf39dbac",
   "metadata": {},
   "source": [
    "### **¿Cuáles son los principios de las MLOps?**\n",
    "\n",
    "+ _Control de versiones:_ Permite el seguimiento de cambios en los activos de ML para la reproducinilidad de resultados y la reutilización de versiones anterioes. El código de entrenamiento y las especificaciones de modelos tienen número de versión para auditoria y reproducibilidad. La replicabilidad es crucial en todas las fases del flujo de trabajo ML.\n",
    "\n",
    "+ _Automatización:_ Implica automatizar diversas etapas de la canalización de ML, dede la ingesta y preprocesamiento de datos hasta el entrenamiento, validación e implementación del modelo. Esto asegura repetibilidad, coherencia y escalabilidad. La automatización puede ser actividad por mensajes, eventos de calendario, cambios en datos o código. Las pruebas automatizadas y la infraestructura como código mejoran la eficiencia y unifromidad. Algunos factores que pueden desencadenar el entrenamiento y la automatización de modelos:\n",
    "\n",
    "    + Mensajería\n",
    "\n",
    "    + Monitoreo de los eventos de calendario\n",
    "\n",
    "    + Cambios en los datos\n",
    "\n",
    "    + Cambios en el código de entrenamiento\n",
    "\n",
    "    + Cambios en el código de la aplicación\n",
    "\n",
    "+ _Actividades continuas:_ A traves de la automatizacíón, se ejecutan pruebas e implementan código continuamente. Incluyen:\n",
    "\n",
    "    + Integración continua: extiende la validación y pruebas del código a los datos y modelos en la canalización\n",
    "\n",
    "    + Entrega continua: implementa automáticamente el modelo recién entrenado o el servicio de predicción con modelo.\n",
    "\n",
    "    + Entrenamiento continuo: vuelve a entrenar automáticamente los modelos de ML para volver a implementarlos\n",
    "    \n",
    "    + Monitoreo continuo: monitoreo de datos y de modelos utilizando metricas relacionadas con la empresa\n",
    "\n",
    "+ _Gobernanza de los modelos:_ Administra todos los aspectos de los sistemas de ML para mayor eficiencia, fomentando la colaboración entre científicos de datos, ingenieros y partes interesadas, utilizando documentación clara, recopilando comentarios sobre las predicciones, y asegurando la protección de datos sensibles y el cumplimiento de requisitos. También implica un proceso estructurado para revisar, validar y aprobar modelos, incluyendo comprobaciones de imparcialidad, prejuicios y consideraciones éticas.\n"
   ]
  },
  {
   "cell_type": "markdown",
   "id": "69213e7b",
   "metadata": {},
   "source": [
    "### **Beneficios de los MLOps**\n",
    "\n",
    "Las MLOps ofrecen un \"mapa\" para guiar proyectos de ML hacia el éxito. Sus beneficios clave incluyen:\n",
    "\n",
    "+ _Reducción del plazo de comercialización:_ Proporcionan un marco para alcanzar objetivos de ciencia de datos más rápido y eficientemente, permitiendo a los desarrolladores y gerentes adoptar enfoques estratégicos y ágiles. La automatización en la creación e implementación de modelos reduce los costos operativos y acelera la comercialización.\n",
    "\n",
    "+ _Productividad mejorada:_ Aumentan la productividad y aceleran el desarrollo de modelos de ML mediante la estandarización de entornos y la creación de procesos repetibles para la experimentación y el entrenamiento.\n",
    "\n",
    "+ _Eficiencia en la implementación de modelos:_ Mejoran la resolución de problemas y la administración de modelos en producción, permitiendo el monitoreo del rendimiento y la reproducción del comportamiento para solucionar problemas. La integración de los flujos de trabajo del modelo en canalizaciones CI/CD limita la degradación del rendimiento y mantiene la calidad del modelo."
   ]
  },
  {
   "cell_type": "markdown",
   "id": "c5b0f5cb",
   "metadata": {},
   "source": [
    "### **Niveles de implementación de MLOps**\n",
    "\n",
    "Existen tres niveles de madurez en la implementación de MLOps:\n",
    "\n",
    "+ _Nivel 0 de MLOps:_ Caracterizado por flujos de trabajo de ML manuales y dirigidos por científicos de datos. Cada paso, desde la preparación de datos hasta la validación del modelo, es manual, con transiciones manuales y ejecución interactiva. Los modelos entrenados se entregan como artefactos para su implementación por el equipo de ingeniería, sin consideraciones de CI/CD ni monitoreo activo.\n",
    "\n",
    "+ _Nivel 1 de MLOps:_ Dirigido a organizaciones que necesitan entrenar frecuentemente los mismos modelos con datos nuevos, buscando la automatización continua de la canalización de ML. A diferencia del Nivel 0, se implementa una canalización de entrenamiento que se ejecuta de forma recurrente para entregar el modelo entrenado. Incluye pasos para experimentar rápidamente con ML con alta automatización, entrenamiento continuo del modelo en producción, y la implementación de la misma canalización en todos los entornos. Implica la creación de componentes de código reutilizables y un almacén de características centralizado.\n",
    "\n",
    "+ _Nivel 2 de MLOps:_ Para organizaciones que desean experimentar y crear con frecuencia nuevos modelos que requieran entrenamiento continuo, adecuado para empresas que actualizan sus modelos en cuestión de minutos y los entrenan y reimplementan a gran escala. Requiere la configuración completa del Nivel 1, además de un orquestador de canalizaciones de ML y un registro de modelos para controlar múltiples modelos. Se repiten a escala tres etapas para garantizar la entrega continua: creación, implementación y empleo de la canalización.\n",
    "\n",
    "\n",
    "![MLOps levels](/Users/isabelvalladolid/Documents/ProyectoCienciaDatos/Tarea2_PCD/1-Workflow-1.jpg)"
   ]
  },
  {
   "cell_type": "markdown",
   "id": "bf6b9569",
   "metadata": {},
   "source": [
    "### **MLOps frente a DevOps**\n",
    "\n",
    "Ambas son prácticas que buscan mejorar los procesos de desarrollo, implementación y monitoreo de software. DevOps se enfoca en cerrar la brecha entre los equipos de desarrollo y operaciones, asegurando pruebas, integración e implementación automatizadas y eficientes. MLOps son un conjunto de prácticas específicas para proyectos de ML, que presentan desafíos únicos como la recopilación de datos, el entrenamiento, la validación, la implementación y el reentrenamiento continuo. Las MLOps incorporan los principios de DevOps al ML para automatizar el ciclo de vida del ML, resultando en una implementación más rápida, mayor precisión y valor empresarial continuo."
   ]
  },
  {
   "cell_type": "markdown",
   "id": "b2fb1447",
   "metadata": {},
   "source": [
    "### **Apoyo de AWS para MLOps**\n",
    "\n",
    "Amazon SageMaker es un servicio completamente administrado para preparar datos, crear, entrenar e implementar modelos de ML. Proporciona herramientas diseñadas específicamente para MLOps para automatizar procesos a lo largo del ciclo de vida del ML, permitiendo alcanzar rápidamente el Nivel 2 de MLOps a escala.\n",
    "Las características clave de SageMaker incluyen:\n",
    "\n",
    "+ Experimentos de SageMaker: Para controlar artefactos de trabajos de entrenamiento de modelos como parámetros, métricas y conjuntos de datos.\n",
    "\n",
    "+ Canalizaciones de SageMaker: Para ejecutar automáticamente a intervalos regulares o ante ciertos eventos.\n",
    "\n",
    "+ Registro de modelos de SageMaker: Para controlar versiones de modelos y monitorear metadatos en un repositorio central, facilitando la elección del mejor modelo"
   ]
  },
  {
   "cell_type": "markdown",
   "id": "6d91953f",
   "metadata": {},
   "source": [
    "https://aws.amazon.com/es/what-is/mlops/"
   ]
  }
 ],
 "metadata": {
  "kernelspec": {
   "display_name": "Python 3",
   "language": "python",
   "name": "python3"
  },
  "language_info": {
   "codemirror_mode": {
    "name": "ipython",
    "version": 3
   },
   "file_extension": ".py",
   "mimetype": "text/x-python",
   "name": "python",
   "nbconvert_exporter": "python",
   "pygments_lexer": "ipython3",
   "version": "3.11.0"
  }
 },
 "nbformat": 4,
 "nbformat_minor": 5
}
